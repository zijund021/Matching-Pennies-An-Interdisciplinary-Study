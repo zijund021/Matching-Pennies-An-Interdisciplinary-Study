{
  "nbformat": 4,
  "nbformat_minor": 0,
  "metadata": {
    "colab": {
      "provenance": []
    },
    "kernelspec": {
      "name": "python3",
      "display_name": "Python 3"
    },
    "language_info": {
      "name": "python"
    }
  },
  "cells": [
    {
      "cell_type": "code",
      "execution_count": 2,
      "metadata": {
        "id": "DwZ2dFQXG2Xp",
        "colab": {
          "base_uri": "https://localhost:8080/"
        },
        "outputId": "79d43055-06f8-43d2-c04e-3e3ed34f6fd4"
      },
      "outputs": [
        {
          "output_type": "stream",
          "name": "stdout",
          "text": [
            "Requirement already satisfied: setuptools in /usr/local/lib/python3.12/dist-packages (80.9.0)\n",
            "Requirement already satisfied: pip in /usr/local/lib/python3.12/dist-packages (25.2)\n",
            "Requirement already satisfied: nashpy in /usr/local/lib/python3.12/dist-packages (0.0.41)\n",
            "Requirement already satisfied: numpy>=1.21.0 in /usr/local/lib/python3.12/dist-packages (from nashpy) (2.0.2)\n",
            "Requirement already satisfied: scipy>=0.19.0 in /usr/local/lib/python3.12/dist-packages (from nashpy) (1.16.1)\n",
            "Requirement already satisfied: networkx>=3.0.0 in /usr/local/lib/python3.12/dist-packages (from nashpy) (3.5)\n",
            "Requirement already satisfied: deprecated>=1.2.14 in /usr/local/lib/python3.12/dist-packages (from nashpy) (1.2.18)\n",
            "Requirement already satisfied: wrapt<2,>=1.10 in /usr/local/lib/python3.12/dist-packages (from deprecated>=1.2.14->nashpy) (1.17.3)\n",
            "Requirement already satisfied: quantecon in /usr/local/lib/python3.12/dist-packages (0.10.1)\n",
            "Requirement already satisfied: numba>=0.49.0 in /usr/local/lib/python3.12/dist-packages (from quantecon) (0.60.0)\n",
            "Requirement already satisfied: numpy>=1.17.0 in /usr/local/lib/python3.12/dist-packages (from quantecon) (2.0.2)\n",
            "Requirement already satisfied: requests in /usr/local/lib/python3.12/dist-packages (from quantecon) (2.32.4)\n",
            "Requirement already satisfied: scipy>=1.5.0 in /usr/local/lib/python3.12/dist-packages (from quantecon) (1.16.1)\n",
            "Requirement already satisfied: sympy in /usr/local/lib/python3.12/dist-packages (from quantecon) (1.13.3)\n",
            "Requirement already satisfied: llvmlite<0.44,>=0.43.0dev0 in /usr/local/lib/python3.12/dist-packages (from numba>=0.49.0->quantecon) (0.43.0)\n",
            "Requirement already satisfied: charset_normalizer<4,>=2 in /usr/local/lib/python3.12/dist-packages (from requests->quantecon) (3.4.3)\n",
            "Requirement already satisfied: idna<4,>=2.5 in /usr/local/lib/python3.12/dist-packages (from requests->quantecon) (3.10)\n",
            "Requirement already satisfied: urllib3<3,>=1.21.1 in /usr/local/lib/python3.12/dist-packages (from requests->quantecon) (2.5.0)\n",
            "Requirement already satisfied: certifi>=2017.4.17 in /usr/local/lib/python3.12/dist-packages (from requests->quantecon) (2025.8.3)\n",
            "Requirement already satisfied: mpmath<1.4,>=1.1.0 in /usr/local/lib/python3.12/dist-packages (from sympy->quantecon) (1.3.0)\n"
          ]
        }
      ],
      "source": [
        "!python -m pip install --upgrade setuptools\n",
        "!python -m pip install --upgrade pip\n",
        "!python -m pip install nashpy\n",
        "!python -m pip install quantecon"
      ]
    },
    {
      "cell_type": "code",
      "source": [
        "import nashpy as nash\n",
        "import numpy as np\n",
        "\n",
        "# Create the game with the payoff matrices (Matching Pennies)\n",
        "# A: row player's payoffs; B: column player's payoffs (note: zero-sum => B = -A)\n",
        "\n",
        "A = np.array([[ 1, -1],\n",
        "              [-1,  1]])  # Row player (Heads/Tails)\n",
        "\n",
        "B = np.array([[-1,  1],\n",
        "              [ 1, -1]])  # Column player = -A\n",
        "\n",
        "# Form the game\n",
        "game1 = nash.Game(A, B)\n",
        "game1\n"
      ],
      "metadata": {
        "colab": {
          "base_uri": "https://localhost:8080/"
        },
        "id": "-B8TIv6SIraz",
        "outputId": "672bd0ee-082b-4601-cc85-2f416a9d365d"
      },
      "execution_count": 19,
      "outputs": [
        {
          "output_type": "execute_result",
          "data": {
            "text/plain": [
              "Zero sum game with payoff matrices:\n",
              "\n",
              "Row player:\n",
              "[[ 1 -1]\n",
              " [-1  1]]\n",
              "\n",
              "Column player:\n",
              "[[-1  1]\n",
              " [ 1 -1]]"
            ]
          },
          "metadata": {},
          "execution_count": 19
        }
      ]
    },
    {
      "cell_type": "markdown",
      "source": [
        "**Interpretation.** The printed object confirms a two-player zero-sum normal-form game with row payoff matrix **A** and column payoff matrix **B = −A** — the standard **Matching Pennies** formulation. In this game there is **no pure-strategy Nash equilibrium**; instead the **unique equilibrium is mixed**, with each player randomizing **H** and **T** with probability **1/2** to keep the opponent indifferent. At that profile the row player’s expected payoff is **0** (and the column player’s is **−0**). This aligns with standard textbook treatments of Matching Pennies and mixed-strategy equilibria in finite games.\n",
        "\n",
        "\n",
        "\n"
      ],
      "metadata": {
        "id": "gmPXmUfGNud-"
      }
    },
    {
      "cell_type": "code",
      "source": [
        "# Find the Nash Equilibrium with Support Enumeration\n",
        "equilibria = game1.support_enumeration()\n",
        "for eq in equilibria:\n",
        "    print(eq)"
      ],
      "metadata": {
        "colab": {
          "base_uri": "https://localhost:8080/"
        },
        "id": "mxy01gd4LB-8",
        "outputId": "7e366661-25d8-4c1d-c4ba-12f2be7d5ce3"
      },
      "execution_count": 6,
      "outputs": [
        {
          "output_type": "stream",
          "name": "stdout",
          "text": [
            "(array([0.5, 0.5]), array([0.5, 0.5]))\n"
          ]
        }
      ]
    },
    {
      "cell_type": "markdown",
      "source": [
        "**Interpretation:** The solver found the unique mixed-strategy Nash equilibrium of Matching Pennies: both players randomize (0.5, 0.5) over\n",
        "𝐻\n",
        "and\n",
        "𝑇\n",
        ", making each other indifferent; **expected payoffs are 0 in this zero-sum game.** This matches standard textbook results."
      ],
      "metadata": {
        "id": "S-iR_WeXS7de"
      }
    },
    {
      "cell_type": "code",
      "source": [
        "# import the QuantEcon package\n",
        "import quantecon.game_theory as gt\n",
        "import numpy as np\n",
        "\n",
        "# --- The first way to form the game: by the payoff matrix of tuples ---\n",
        "# (u_row, u_col)\n",
        "matching_pennies_matrix = np.array([[( 1, -1), (-1,  1)],\n",
        "                                    [(-1,  1), ( 1, -1)]])\n",
        "\n",
        "g_MP = gt.NormalFormGame(matching_pennies_matrix)\n",
        "print(g_MP)"
      ],
      "metadata": {
        "colab": {
          "base_uri": "https://localhost:8080/"
        },
        "id": "gjves8I6LHaD",
        "outputId": "5b4802da-76e4-4696-bd69-89a86b90802c"
      },
      "execution_count": 7,
      "outputs": [
        {
          "output_type": "stream",
          "name": "stdout",
          "text": [
            "2-player NormalFormGame with payoff profile array:\n",
            "[[[ 1, -1],  [-1,  1]],\n",
            " [[-1,  1],  [ 1, -1]]]\n"
          ]
        }
      ]
    },
    {
      "cell_type": "markdown",
      "source": [
        "**Interpretation:** The printout confirms a 2-player `NormalFormGame` where each cell lists a payoff pair (u_row, u_col). The displayed “payoff profile array” shows the bimatrix for Matching Pennies: the row player’s matrix [[1, −1], [−1, 1]] and the column player’s [[−1, 1], [1, −1]] = −A, i.e., a zero-sum specification; this indicates the game was constructed correctly for subsequent equilibrium computations. :contentReference[oaicite:0]{index=0}"
      ],
      "metadata": {
        "id": "gDTCbFSHTzGs"
      }
    },
    {
      "cell_type": "code",
      "source": [
        "# --- The second way to form the game: by players ---\n",
        "# Player 0\n",
        "player0 = gt.Player([[ 1, -1],\n",
        "                     [-1,  1]])\n",
        "\n",
        "# Player 1\n",
        "player1 = gt.Player([[-1,  1],\n",
        "                     [ 1, -1]])\n",
        "\n",
        "# Pass in the two players\n",
        "g_MP = gt.NormalFormGame((player0, player1))\n",
        "print(g_MP)"
      ],
      "metadata": {
        "colab": {
          "base_uri": "https://localhost:8080/"
        },
        "id": "nItmjYjVLRYE",
        "outputId": "ad88baa2-76ab-4eef-c2f3-96cc1b06b29e"
      },
      "execution_count": 8,
      "outputs": [
        {
          "output_type": "stream",
          "name": "stdout",
          "text": [
            "2-player NormalFormGame with payoff profile array:\n",
            "[[[ 1, -1],  [-1,  1]],\n",
            " [[-1,  1],  [ 1, -1]]]\n"
          ]
        }
      ]
    },
    {
      "cell_type": "markdown",
      "source": [
        "**Interpretation:** This printout shows a 2-player `NormalFormGame` built from two `Player` objects. Each cell is a payoff pair (u_row, u_col); the row player’s matrix [[1, −1], [−1, 1]] and the column player’s [[−1, 1], [1, −1]] = −A confirm a zero-sum Matching Pennies bimatrix, so the game is correctly specified for equilibrium computation. (cf. QuantEcon `NormalFormGame`/`Player` docs on payoff arrays.)\n"
      ],
      "metadata": {
        "id": "ohsQ2nj-UEzL"
      }
    },
    {
      "cell_type": "code",
      "source": [
        "# --- The third way to form the game: by actions (Not recommended) ---\n",
        "# 2 players, each of whom has 2 actions\n",
        "g_MP = gt.NormalFormGame((2, 2))\n",
        "\n",
        "# (u_row, u_col)\n",
        "g_MP[0, 0] =  1, -1   # (Row H, Col H)\n",
        "g_MP[0, 1] = -1,  1   # (Row H, Col T)\n",
        "g_MP[1, 0] = -1,  1   # (Row T, Col H)\n",
        "g_MP[1, 1] =  1, -1   # (Row T, Col T)\n",
        "\n",
        "print(g_MP)"
      ],
      "metadata": {
        "colab": {
          "base_uri": "https://localhost:8080/"
        },
        "id": "pGJRNnVfLfdH",
        "outputId": "fb89bfc3-cd6c-4621-ae68-819ed59956e1"
      },
      "execution_count": 14,
      "outputs": [
        {
          "output_type": "stream",
          "name": "stdout",
          "text": [
            "2-player NormalFormGame with payoff profile array:\n",
            "[[[ 1., -1.],  [-1.,  1.]],\n",
            " [[-1.,  1.],  [ 1., -1.]]]\n"
          ]
        }
      ]
    },
    {
      "cell_type": "markdown",
      "source": [
        "**Interpretation**: This printout confirms a 2-player `NormalFormGame` created “by actions,” where each cell stores a payoff pair (u_row, u_col). The shown payoff profile array matches the Matching Pennies bimatrix: the row matrix [[1, −1], [−1, 1]] and the column matrix [[−1, 1], [1, −1]] = −A, i.e., a zero-sum specification. This indicates the game is correctly constructed and equivalent to the other two construction methods."
      ],
      "metadata": {
        "id": "RIEfMWu-UPMo"
      }
    },
    {
      "cell_type": "code",
      "source": [
        "# --- Finding the Nash equilibrium: pure_nash_brute ---\n",
        "\n",
        "NE = gt.pure_nash_brute(g_MP)\n",
        "print(\"pure_nash_brute:\", NE)"
      ],
      "metadata": {
        "colab": {
          "base_uri": "https://localhost:8080/"
        },
        "id": "HPrr_Z5PL2zX",
        "outputId": "af206dd1-18ff-42d9-cdfa-c3ff8df19d1e"
      },
      "execution_count": 15,
      "outputs": [
        {
          "output_type": "stream",
          "name": "stdout",
          "text": [
            "pure_nash_brute: []\n"
          ]
        }
      ]
    },
    {
      "cell_type": "markdown",
      "source": [
        "**Interpretation**: The empty list means **no pure-strategy Nash equilibria** were found—exactly what we expect for **Matching Pennies**. Use a mixed-equilibrium routine next (e.g., support/vertex enumeration) to obtain the unique mixed NE.\n"
      ],
      "metadata": {
        "id": "8cLFlA4mUljM"
      }
    },
    {
      "cell_type": "code",
      "source": [
        "# --- Finding the Nash equilibrium: support_enumeration ---\n",
        "NE = gt.support_enumeration(g_MP)\n",
        "print(\"support_enumeration:\", NE)"
      ],
      "metadata": {
        "colab": {
          "base_uri": "https://localhost:8080/"
        },
        "id": "VvnK8l52MI3a",
        "outputId": "8203a742-5804-48ef-cbbb-08a007a918e0"
      },
      "execution_count": 17,
      "outputs": [
        {
          "output_type": "stream",
          "name": "stdout",
          "text": [
            "support_enumeration: [(array([0.5, 0.5]), array([0.5, 0.5]))]\n"
          ]
        }
      ]
    },
    {
      "cell_type": "markdown",
      "source": [
        "**Interpretation**: The solver (`support_enumeration`) returns the mixed-strategy Nash equilibrium for Matching Pennies: both players randomize (0.5, 0.5) over H and T, which is the unique NE in this zero-sum game; expected payoffs are 0.\n"
      ],
      "metadata": {
        "id": "5bUOTLj3U2OZ"
      }
    },
    {
      "cell_type": "code",
      "source": [
        "# --- Finding the Nash equilibrium: vertex_enumeration ---\n",
        "NE = gt.vertex_enumeration(g_MP)\n",
        "print(\"vertex_enumeration:\", NE)"
      ],
      "metadata": {
        "colab": {
          "base_uri": "https://localhost:8080/"
        },
        "id": "n70G8GK7MLbq",
        "outputId": "04a874b8-59cf-49e7-f6af-131d134efa75"
      },
      "execution_count": 16,
      "outputs": [
        {
          "output_type": "stream",
          "name": "stdout",
          "text": [
            "vertex_enumeration: [(array([0.5, 0.5]), array([0.5, 0.5]))]\n"
          ]
        }
      ]
    },
    {
      "cell_type": "markdown",
      "source": [
        "**Interpretation**: `vertex_enumeration` independently recovers the same mixed-strategy Nash equilibrium as support enumeration—both players mix (0.5, 0.5) over H and T. In QuantEcon, vertex enumeration searches best-response polytopes and (for non-degenerate 2-player games) returns all equilibria, so it matches the support-enumeration result here.\n"
      ],
      "metadata": {
        "id": "BoWk6MDDVBJ1"
      }
    }
  ]
}